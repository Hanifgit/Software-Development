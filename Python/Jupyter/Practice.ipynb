{
 "cells": [
  {
   "cell_type": "code",
   "execution_count": 3,
   "id": "c9ae96dd",
   "metadata": {},
   "outputs": [
    {
     "name": "stdout",
     "output_type": "stream",
     "text": [
      "gsdfg\n"
     ]
    }
   ],
   "source": [
    "print(\"gsdfg\")"
   ]
  },
  {
   "cell_type": "code",
   "execution_count": 4,
   "id": "611c6ac2",
   "metadata": {},
   "outputs": [
    {
     "name": "stdout",
     "output_type": "stream",
     "text": [
      "Papon\n"
     ]
    }
   ],
   "source": [
    "print(\"Papon\")"
   ]
  },
  {
   "cell_type": "code",
   "execution_count": 5,
   "id": "c749ac92",
   "metadata": {},
   "outputs": [],
   "source": [
    "a = \"Papon\""
   ]
  },
  {
   "cell_type": "code",
   "execution_count": 6,
   "id": "7f310608",
   "metadata": {},
   "outputs": [
    {
     "name": "stdout",
     "output_type": "stream",
     "text": [
      "Papon\n"
     ]
    }
   ],
   "source": [
    "print(a)"
   ]
  },
  {
   "cell_type": "code",
   "execution_count": null,
   "id": "cd82e34e",
   "metadata": {},
   "outputs": [],
   "source": []
  }
 ],
 "metadata": {
  "kernelspec": {
   "display_name": "Python 3",
   "language": "python",
   "name": "python3"
  },
  "language_info": {
   "codemirror_mode": {
    "name": "ipython",
    "version": 3
   },
   "file_extension": ".py",
   "mimetype": "text/x-python",
   "name": "python",
   "nbconvert_exporter": "python",
   "pygments_lexer": "ipython3",
   "version": "3.9.4"
  }
 },
 "nbformat": 4,
 "nbformat_minor": 5
}
